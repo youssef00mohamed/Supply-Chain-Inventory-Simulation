{
 "cells": [
  {
   "cell_type": "code",
   "execution_count": 1,
   "id": "54781caa",
   "metadata": {},
   "outputs": [],
   "source": [
    "#import libraries\n",
    "import numpy as np\n",
    "import pandas as pd\n",
    "from scipy.stats import norm"
   ]
  },
  {
   "cell_type": "code",
   "execution_count": 2,
   "id": "61ad0273",
   "metadata": {},
   "outputs": [],
   "source": [
    "#defining the variable time\n",
    "time = 200\n",
    "d_mu = 100\n",
    "d_std = 25\n",
    "d = np.maximum(np.random.normal(d_mu, d_std, time).round(0).astype(int),0)"
   ]
  },
  {
   "cell_type": "code",
   "execution_count": 3,
   "id": "e68465e5",
   "metadata": {},
   "outputs": [
    {
     "data": {
      "text/plain": [
       "55.90169943749474"
      ]
     },
     "execution_count": 3,
     "metadata": {},
     "output_type": "execute_result"
    }
   ],
   "source": [
    "#define the remaining inputs of our policy and compute the various parameters\n",
    "L, R, alpha = 4, 1, 0.95 \n",
    "z = norm.ppf(alpha) \n",
    "x_std = np.sqrt(L+R)*d_std\n",
    "x_std"
   ]
  },
  {
   "cell_type": "code",
   "execution_count": 4,
   "id": "3aa6ead8",
   "metadata": {},
   "outputs": [],
   "source": [
    "#Cycle stock Cs. Stock needed to fulfill the expected demand\n",
    "#Safety stock Ss. Stock protecting the supply chain against demand variability\n",
    "#In-transit stock Is. Inventory in transit in between different locations. Usually\n",
    "Ss = np.round(x_std*z).astype(int) \n",
    "Cs = 1/2 * d_mu * R \n",
    "Is = d_mu * L \n",
    "S = Ss + 2*Cs + Is"
   ]
  },
  {
   "cell_type": "code",
   "execution_count": 5,
   "id": "c3fd6f1f",
   "metadata": {},
   "outputs": [],
   "source": [
    "#orders can stay in transit for 4 periods\n",
    "hand = np.zeros(time, dtype=int) \n",
    "transit = np.zeros((time,L+1), dtype=int)"
   ]
  },
  {
   "cell_type": "code",
   "execution_count": 6,
   "id": "06837d68",
   "metadata": {},
   "outputs": [],
   "source": [
    "#We also have to create two objects to track the service level of our policy\n",
    "stockout_period = np.full(time, False, dtype=bool)\n",
    "stockout_cycle = []"
   ]
  },
  {
   "cell_type": "code",
   "execution_count": 7,
   "id": "5c034a56",
   "metadata": {},
   "outputs": [],
   "source": [
    "#initialize these arrays for the first timestep\n",
    "hand[0] = S - d[0]\n",
    "transit[1,-1] = d[0]"
   ]
  },
  {
   "cell_type": "code",
   "execution_count": 8,
   "id": "91e1e73c",
   "metadata": {},
   "outputs": [],
   "source": [
    "#Making the simulation\n",
    "for t in range(1,time): \n",
    "  if transit[t-1,0]>0: \n",
    "    stockout_cycle.append(stockout_period[t-1]) \n",
    "  hand[t] = hand[t-1] - d[t] + transit[t-1,0] \n",
    "  stockout_period[t] = hand[t] < 0\n",
    "  transit[t,:-1] = transit[t-1,1:]\n",
    "  if 0==t%R: \n",
    "    net = hand[t] + transit[t].sum() \n",
    "    transit[t,L] = S - net"
   ]
  },
  {
   "cell_type": "code",
   "execution_count": 44,
   "id": "1c6f8aed",
   "metadata": {},
   "outputs": [
    {
     "name": "stdout",
     "output_type": "stream",
     "text": [
      "     Demand  On−hand                In−transit\n",
      "5       130     -172  [117, 253, 86, 159, 149]\n",
      "6        34     -166  [253, 86, 159, 149, 111]\n",
      "7       104      -30  [86, 159, 149, 111, 117]\n",
      "8        74      -25  [159, 149, 111, 117, 81]\n",
      "9        54       56   [149, 111, 117, 81, 78]\n",
      "..      ...      ...                       ...\n",
      "195     105      103   [125, 67, 108, 82, 107]\n",
      "196     106      130    [67, 108, 82, 107, 98]\n",
      "197      77       91   [108, 82, 107, 98, 106]\n",
      "198      97      143    [82, 107, 98, 106, 56]\n",
      "199     101      130    [107, 98, 106, 56, 95]\n",
      "\n",
      "[195 rows x 3 columns]\n"
     ]
    }
   ],
   "source": [
    "#create a DataFrame df to hold our simulation results\n",
    "df = pd.DataFrame(data= {'Demand':d, 'On−hand':hand, 'In−transit':list(transit)}) \n",
    "df = df.iloc[R+L:,:] #Remove initialization periods \n",
    "print(df)"
   ]
  },
  {
   "cell_type": "code",
   "execution_count": null,
   "id": "dae17b96",
   "metadata": {},
   "outputs": [],
   "source": []
  }
 ],
 "metadata": {
  "kernelspec": {
   "display_name": "Python 3 (ipykernel)",
   "language": "python",
   "name": "python3"
  },
  "language_info": {
   "codemirror_mode": {
    "name": "ipython",
    "version": 3
   },
   "file_extension": ".py",
   "mimetype": "text/x-python",
   "name": "python",
   "nbconvert_exporter": "python",
   "pygments_lexer": "ipython3",
   "version": "3.9.13"
  }
 },
 "nbformat": 4,
 "nbformat_minor": 5
}
